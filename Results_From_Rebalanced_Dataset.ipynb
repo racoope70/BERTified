{
  "nbformat": 4,
  "nbformat_minor": 0,
  "metadata": {
    "colab": {
      "provenance": [],
      "gpuType": "T4",
      "authorship_tag": "ABX9TyNukohAf9bFEt+avMc5ed1B",
      "include_colab_link": true
    },
    "kernelspec": {
      "name": "python3",
      "display_name": "Python 3"
    },
    "language_info": {
      "name": "python"
    },
    "accelerator": "GPU"
  },
  "cells": [
    {
      "cell_type": "markdown",
      "metadata": {
        "id": "view-in-github",
        "colab_type": "text"
      },
      "source": [
        "<a href=\"https://colab.research.google.com/github/racoope70/BERTified/blob/main/Results_Rebalance_Dataset.ipynb\" target=\"_parent\"><img src=\"https://colab.research.google.com/assets/colab-badge.svg\" alt=\"Open In Colab\"/></a>"
      ]
    },
    {
      "cell_type": "code",
      "execution_count": 1,
      "metadata": {
        "id": "ZZh_Aj5CZS3k"
      },
      "outputs": [],
      "source": [
        "# %%\n",
        "# Import necessary libraries\n",
        "import os\n",
        "import pandas as pd\n",
        "from transformers import AutoTokenizer, AutoModelForSequenceClassification, TrainingArguments, Trainer, get_scheduler\n",
        "import torch\n",
        "from sklearn.model_selection import train_test_split\n",
        "from sklearn.metrics import precision_score, recall_score, f1_score, classification_report\n",
        "from google.colab import drive\n",
        "import tensorflow as tf\n",
        "from sklearn.metrics import accuracy_score\n",
        "import gc  # Import garbage collection for memory management\n",
        "from huggingface_hub import notebook_login\n",
        "from collections import Counter\n"
      ]
    },
    {
      "cell_type": "code",
      "source": [
        "# %%\n",
        "# Step 1: Install required libraries (run this only once to install dependencies)\n",
        "!pip install transformers pandas scikit-learn torch torchvision torchaudio matplotlib seaborn\n"
      ],
      "metadata": {
        "colab": {
          "base_uri": "https://localhost:8080/"
        },
        "id": "xUEvjRE05Yl4",
        "outputId": "f205a523-7390-4fd8-bdcd-2ac239403595"
      },
      "execution_count": 2,
      "outputs": [
        {
          "output_type": "stream",
          "name": "stdout",
          "text": [
            "Requirement already satisfied: transformers in /usr/local/lib/python3.11/dist-packages (4.47.1)\n",
            "Requirement already satisfied: pandas in /usr/local/lib/python3.11/dist-packages (2.2.2)\n",
            "Requirement already satisfied: scikit-learn in /usr/local/lib/python3.11/dist-packages (1.6.0)\n",
            "Requirement already satisfied: torch in /usr/local/lib/python3.11/dist-packages (2.5.1+cu121)\n",
            "Requirement already satisfied: torchvision in /usr/local/lib/python3.11/dist-packages (0.20.1+cu121)\n",
            "Requirement already satisfied: torchaudio in /usr/local/lib/python3.11/dist-packages (2.5.1+cu121)\n",
            "Requirement already satisfied: matplotlib in /usr/local/lib/python3.11/dist-packages (3.10.0)\n",
            "Requirement already satisfied: seaborn in /usr/local/lib/python3.11/dist-packages (0.13.2)\n",
            "Requirement already satisfied: filelock in /usr/local/lib/python3.11/dist-packages (from transformers) (3.16.1)\n",
            "Requirement already satisfied: huggingface-hub<1.0,>=0.24.0 in /usr/local/lib/python3.11/dist-packages (from transformers) (0.27.1)\n",
            "Requirement already satisfied: numpy>=1.17 in /usr/local/lib/python3.11/dist-packages (from transformers) (1.26.4)\n",
            "Requirement already satisfied: packaging>=20.0 in /usr/local/lib/python3.11/dist-packages (from transformers) (24.2)\n",
            "Requirement already satisfied: pyyaml>=5.1 in /usr/local/lib/python3.11/dist-packages (from transformers) (6.0.2)\n",
            "Requirement already satisfied: regex!=2019.12.17 in /usr/local/lib/python3.11/dist-packages (from transformers) (2024.11.6)\n",
            "Requirement already satisfied: requests in /usr/local/lib/python3.11/dist-packages (from transformers) (2.32.3)\n",
            "Requirement already satisfied: tokenizers<0.22,>=0.21 in /usr/local/lib/python3.11/dist-packages (from transformers) (0.21.0)\n",
            "Requirement already satisfied: safetensors>=0.4.1 in /usr/local/lib/python3.11/dist-packages (from transformers) (0.5.2)\n",
            "Requirement already satisfied: tqdm>=4.27 in /usr/local/lib/python3.11/dist-packages (from transformers) (4.67.1)\n",
            "Requirement already satisfied: python-dateutil>=2.8.2 in /usr/local/lib/python3.11/dist-packages (from pandas) (2.8.2)\n",
            "Requirement already satisfied: pytz>=2020.1 in /usr/local/lib/python3.11/dist-packages (from pandas) (2024.2)\n",
            "Requirement already satisfied: tzdata>=2022.7 in /usr/local/lib/python3.11/dist-packages (from pandas) (2024.2)\n",
            "Requirement already satisfied: scipy>=1.6.0 in /usr/local/lib/python3.11/dist-packages (from scikit-learn) (1.13.1)\n",
            "Requirement already satisfied: joblib>=1.2.0 in /usr/local/lib/python3.11/dist-packages (from scikit-learn) (1.4.2)\n",
            "Requirement already satisfied: threadpoolctl>=3.1.0 in /usr/local/lib/python3.11/dist-packages (from scikit-learn) (3.5.0)\n",
            "Requirement already satisfied: typing-extensions>=4.8.0 in /usr/local/lib/python3.11/dist-packages (from torch) (4.12.2)\n",
            "Requirement already satisfied: networkx in /usr/local/lib/python3.11/dist-packages (from torch) (3.4.2)\n",
            "Requirement already satisfied: jinja2 in /usr/local/lib/python3.11/dist-packages (from torch) (3.1.5)\n",
            "Requirement already satisfied: fsspec in /usr/local/lib/python3.11/dist-packages (from torch) (2024.10.0)\n",
            "Requirement already satisfied: nvidia-cuda-nvrtc-cu12==12.1.105 in /usr/local/lib/python3.11/dist-packages (from torch) (12.1.105)\n",
            "Requirement already satisfied: nvidia-cuda-runtime-cu12==12.1.105 in /usr/local/lib/python3.11/dist-packages (from torch) (12.1.105)\n",
            "Requirement already satisfied: nvidia-cuda-cupti-cu12==12.1.105 in /usr/local/lib/python3.11/dist-packages (from torch) (12.1.105)\n",
            "Requirement already satisfied: nvidia-cudnn-cu12==9.1.0.70 in /usr/local/lib/python3.11/dist-packages (from torch) (9.1.0.70)\n",
            "Requirement already satisfied: nvidia-cublas-cu12==12.1.3.1 in /usr/local/lib/python3.11/dist-packages (from torch) (12.1.3.1)\n",
            "Requirement already satisfied: nvidia-cufft-cu12==11.0.2.54 in /usr/local/lib/python3.11/dist-packages (from torch) (11.0.2.54)\n",
            "Requirement already satisfied: nvidia-curand-cu12==10.3.2.106 in /usr/local/lib/python3.11/dist-packages (from torch) (10.3.2.106)\n",
            "Requirement already satisfied: nvidia-cusolver-cu12==11.4.5.107 in /usr/local/lib/python3.11/dist-packages (from torch) (11.4.5.107)\n",
            "Requirement already satisfied: nvidia-cusparse-cu12==12.1.0.106 in /usr/local/lib/python3.11/dist-packages (from torch) (12.1.0.106)\n",
            "Requirement already satisfied: nvidia-nccl-cu12==2.21.5 in /usr/local/lib/python3.11/dist-packages (from torch) (2.21.5)\n",
            "Requirement already satisfied: nvidia-nvtx-cu12==12.1.105 in /usr/local/lib/python3.11/dist-packages (from torch) (12.1.105)\n",
            "Requirement already satisfied: triton==3.1.0 in /usr/local/lib/python3.11/dist-packages (from torch) (3.1.0)\n",
            "Requirement already satisfied: sympy==1.13.1 in /usr/local/lib/python3.11/dist-packages (from torch) (1.13.1)\n",
            "Requirement already satisfied: nvidia-nvjitlink-cu12 in /usr/local/lib/python3.11/dist-packages (from nvidia-cusolver-cu12==11.4.5.107->torch) (12.6.85)\n",
            "Requirement already satisfied: mpmath<1.4,>=1.1.0 in /usr/local/lib/python3.11/dist-packages (from sympy==1.13.1->torch) (1.3.0)\n",
            "Requirement already satisfied: pillow!=8.3.*,>=5.3.0 in /usr/local/lib/python3.11/dist-packages (from torchvision) (11.1.0)\n",
            "Requirement already satisfied: contourpy>=1.0.1 in /usr/local/lib/python3.11/dist-packages (from matplotlib) (1.3.1)\n",
            "Requirement already satisfied: cycler>=0.10 in /usr/local/lib/python3.11/dist-packages (from matplotlib) (0.12.1)\n",
            "Requirement already satisfied: fonttools>=4.22.0 in /usr/local/lib/python3.11/dist-packages (from matplotlib) (4.55.3)\n",
            "Requirement already satisfied: kiwisolver>=1.3.1 in /usr/local/lib/python3.11/dist-packages (from matplotlib) (1.4.8)\n",
            "Requirement already satisfied: pyparsing>=2.3.1 in /usr/local/lib/python3.11/dist-packages (from matplotlib) (3.2.1)\n",
            "Requirement already satisfied: six>=1.5 in /usr/local/lib/python3.11/dist-packages (from python-dateutil>=2.8.2->pandas) (1.17.0)\n",
            "Requirement already satisfied: MarkupSafe>=2.0 in /usr/local/lib/python3.11/dist-packages (from jinja2->torch) (3.0.2)\n",
            "Requirement already satisfied: charset-normalizer<4,>=2 in /usr/local/lib/python3.11/dist-packages (from requests->transformers) (3.4.1)\n",
            "Requirement already satisfied: idna<4,>=2.5 in /usr/local/lib/python3.11/dist-packages (from requests->transformers) (3.10)\n",
            "Requirement already satisfied: urllib3<3,>=1.21.1 in /usr/local/lib/python3.11/dist-packages (from requests->transformers) (2.3.0)\n",
            "Requirement already satisfied: certifi>=2017.4.17 in /usr/local/lib/python3.11/dist-packages (from requests->transformers) (2024.12.14)\n"
          ]
        }
      ]
    },
    {
      "cell_type": "code",
      "source": [
        "# Step 2: Load IMDb Dataset\n",
        "def load_imdb_dataset(base_path):\n",
        "    \"\"\"\n",
        "    Loads the IMDb dataset from given directory structure and returns a DataFrame with reviews and sentiments.\n",
        "    \"\"\"\n",
        "    reviews = []\n",
        "    sentiments = []\n",
        "\n",
        "    # Iterate over both train and test data\n",
        "    for split in ['train', 'test']:\n",
        "        for sentiment in ['pos', 'neg']:\n",
        "            path = os.path.join(base_path, split, sentiment)\n",
        "            # Read reviews from each file\n",
        "            for file_name in os.listdir(path):\n",
        "                with open(os.path.join(path, file_name), 'r', encoding='utf-8') as file:\n",
        "                    reviews.append(file.read())\n",
        "                    sentiments.append(1 if sentiment == 'pos' else 0)\n",
        "\n",
        "    return pd.DataFrame({'review': reviews, 'sentiment': sentiments})"
      ],
      "metadata": {
        "id": "NPrtWJHL5lSZ"
      },
      "execution_count": 68,
      "outputs": []
    },
    {
      "cell_type": "code",
      "source": [
        "# Step 3: Mount Google Drive\n",
        "drive.mount('/content/drive')"
      ],
      "metadata": {
        "colab": {
          "base_uri": "https://localhost:8080/"
        },
        "id": "mlsfTrma5yWv",
        "outputId": "347777cf-375c-4403-9581-4c5fbdc23f1c"
      },
      "execution_count": 4,
      "outputs": [
        {
          "output_type": "stream",
          "name": "stdout",
          "text": [
            "Mounted at /content/drive\n"
          ]
        }
      ]
    },
    {
      "cell_type": "code",
      "source": [
        "# Step 4: Define paths for saving datasets and results\n",
        "base_path = '/content/drive/MyDrive/aclImdb'\n",
        "csv_file_path = '/content/drive/MyDrive/aclImdb_reviews.csv'\n",
        "results_dir = '/content/drive/MyDrive/sentiment_analysis_results'  # Define the directory for saving results\n",
        "\n",
        "# Ensure the results directory exists\n",
        "if not os.path.exists(results_dir):\n",
        "    os.makedirs(results_dir)\n",
        "\n",
        "if os.path.exists(csv_file_path):\n",
        "    df = pd.read_csv(csv_file_path)\n",
        "else:\n",
        "    df = load_imdb_dataset(base_path)\n",
        "    df.to_csv(csv_file_path, index=False)\n"
      ],
      "metadata": {
        "id": "ABVPf2c450yy"
      },
      "execution_count": 69,
      "outputs": []
    },
    {
      "cell_type": "code",
      "source": [
        "# Step 5: Sample a subset of the data\n",
        "data = df.sample(10000)\n"
      ],
      "metadata": {
        "id": "z-QKxzd-6AF4"
      },
      "execution_count": 70,
      "outputs": []
    },
    {
      "cell_type": "code",
      "source": [
        "# Step 6: Split the data into training and test sets\n",
        "train_texts, test_texts, train_labels, test_labels = train_test_split(\n",
        "    data['review'], data['sentiment'], test_size=0.2, random_state=42\n",
        ")\n",
        "\n",
        "# Free up memory after splitting\n",
        "del df, data\n",
        "gc.collect()"
      ],
      "metadata": {
        "colab": {
          "base_uri": "https://localhost:8080/"
        },
        "id": "vreqHUyu6DKk",
        "outputId": "c26c6afd-f03a-4ba1-9868-efd35d717f07"
      },
      "execution_count": 71,
      "outputs": [
        {
          "output_type": "execute_result",
          "data": {
            "text/plain": [
              "7"
            ]
          },
          "metadata": {},
          "execution_count": 71
        }
      ]
    },
    {
      "cell_type": "code",
      "source": [
        "# Step 7: Authenticate with Hugging Face Hub (Optional)\n",
        "# This allows for better access and avoids rate limits when downloading public models/datasets\n",
        "#notebook_login()\n"
      ],
      "metadata": {
        "id": "9YHFMIdk6Tkm"
      },
      "execution_count": 8,
      "outputs": []
    },
    {
      "cell_type": "code",
      "source": [
        "# Step 8: Tokenize Text using BERT Tokenizer in Batches\n",
        "tokenizer = AutoTokenizer.from_pretrained(\"bert-base-uncased\")\n",
        "\n",
        "def tokenize_data(texts, tokenizer, batch_size=64):\n",
        "    \"\"\"\n",
        "    Tokenizes input texts in smaller batches to optimize memory usage.\n",
        "    \"\"\"\n",
        "    tokenized_data = {\"input_ids\": [], \"attention_mask\": []}\n",
        "    for i in range(0, len(texts), batch_size):\n",
        "        batch = texts[i:i + batch_size].tolist()\n",
        "        encodings = tokenizer(batch, truncation=True, padding=True, max_length=256)\n",
        "        tokenized_data[\"input_ids\"].extend(encodings[\"input_ids\"])\n",
        "        tokenized_data[\"attention_mask\"].extend(encodings[\"attention_mask\"])\n",
        "    return tokenized_data\n",
        "\n",
        "# Tokenize training and testing data\n",
        "train_encodings = tokenize_data(train_texts, tokenizer)\n",
        "test_encodings = tokenize_data(test_texts, tokenizer)\n",
        "\n",
        "train_texts_list = train_texts.tolist()  # Convert training texts to a list\n",
        "train_labels_list = train_labels.tolist()  # Convert training labels to a list\n",
        "\n"
      ],
      "metadata": {
        "id": "Krf9mq-M6XMq"
      },
      "execution_count": 72,
      "outputs": []
    },
    {
      "cell_type": "code",
      "source": [
        "# Step 9: Define Dataset Class\n",
        "class SentimentDataset(torch.utils.data.Dataset):\n",
        "    \"\"\"\n",
        "    Custom Dataset class for sentiment analysis.\n",
        "    \"\"\"\n",
        "    def __init__(self, encodings, labels):\n",
        "        self.encodings = encodings\n",
        "        self.labels = labels\n",
        "\n",
        "    def __len__(self):\n",
        "        return len(self.labels)\n",
        "\n",
        "    def __getitem__(self, idx):\n",
        "        item = {key: torch.tensor(val[idx]) for key, val in self.encodings.items()}\n",
        "        item['labels'] = torch.tensor(self.labels[idx])\n",
        "        return item\n",
        "\n",
        "# Rebalance the training dataset\n",
        "from imblearn.over_sampling import RandomOverSampler\n",
        "\n",
        "# Convert training texts and labels to a compatible format\n",
        "train_texts_list = train_texts.tolist()  # Ensure train_texts is a list\n",
        "train_labels_list = train_labels.tolist()\n",
        "\n",
        "# Perform oversampling\n",
        "ros = RandomOverSampler(random_state=42)\n",
        "train_texts_resampled, train_labels_resampled = ros.fit_resample(\n",
        "    pd.DataFrame({'text': train_texts_list}),  # Use a DataFrame to keep structure\n",
        "    train_labels_list\n",
        ")\n",
        "\n",
        "# Tokenize the resampled training data\n",
        "train_encodings_resampled = tokenizer(\n",
        "    train_texts_resampled['text'].tolist(), truncation=True, padding=True, max_length=128\n",
        ")\n",
        "\n",
        "# Prepare rebalanced training dataset\n",
        "train_dataset = SentimentDataset(train_encodings_resampled, list(train_labels_resampled))\n",
        "\n",
        "# Prepare testing dataset (unchanged)\n",
        "test_dataset = SentimentDataset(test_encodings, list(test_labels))\n",
        "\n",
        "# Free memory after creating datasets\n",
        "del train_encodings, test_encodings, train_labels, test_labels\n",
        "gc.collect()\n"
      ],
      "metadata": {
        "colab": {
          "base_uri": "https://localhost:8080/"
        },
        "id": "gKBc3XTvYcEC",
        "outputId": "3a1e6526-9fff-4f21-f517-225a4910a961"
      },
      "execution_count": 73,
      "outputs": [
        {
          "output_type": "execute_result",
          "data": {
            "text/plain": [
              "0"
            ]
          },
          "metadata": {},
          "execution_count": 73
        }
      ]
    },
    {
      "cell_type": "code",
      "source": [
        "# %%\n",
        "# Step 10: Set up the model with BERT and GPU support\n",
        "device = torch.device(\"cuda\" if torch.cuda.is_available() else \"cpu\")\n",
        "model = AutoModelForSequenceClassification.from_pretrained(\"bert-base-uncased\", num_labels=2).to(device)"
      ],
      "metadata": {
        "colab": {
          "base_uri": "https://localhost:8080/"
        },
        "id": "pdsE-7C87tOk",
        "outputId": "dbcce65e-e52c-40b2-8a17-ba2df6dfba07"
      },
      "execution_count": 75,
      "outputs": [
        {
          "output_type": "stream",
          "name": "stderr",
          "text": [
            "Some weights of BertForSequenceClassification were not initialized from the model checkpoint at bert-base-uncased and are newly initialized: ['classifier.bias', 'classifier.weight']\n",
            "You should probably TRAIN this model on a down-stream task to be able to use it for predictions and inference.\n"
          ]
        }
      ]
    },
    {
      "cell_type": "code",
      "source": [
        "# Step 11: Define Training Arguments with Checkpoints\n",
        "training_args = TrainingArguments(\n",
        "    output_dir=results_dir,  # Save checkpoints to Google Drive\n",
        "    eval_strategy=\"epoch\",\n",
        "    save_strategy=\"epoch\",\n",
        "    save_total_limit=3,  # Limit the number of saved checkpoints\n",
        "    learning_rate=1e-5,\n",
        "    per_device_train_batch_size=16,\n",
        "    gradient_accumulation_steps=4,\n",
        "    per_device_eval_batch_size=32,\n",
        "    num_train_epochs=5,\n",
        "    weight_decay=0.1,\n",
        "    logging_dir=os.path.join(results_dir, \"logs\"),  # Log directory\n",
        "    fp16=True,  # Mixed precision training\n",
        "    load_best_model_at_end=True,  # Load the best model\n",
        "    report_to=\"tensorboard\",\n",
        ")"
      ],
      "metadata": {
        "id": "Pe51FQW863_t"
      },
      "execution_count": 76,
      "outputs": []
    },
    {
      "cell_type": "code",
      "source": [
        "# %%\n",
        "# Step 12: Train Model with Checkpoints\n",
        "optimizer = torch.optim.AdamW(model.parameters(), lr=2e-5)\n",
        "lr_scheduler = get_scheduler(\n",
        "    name=\"linear\", optimizer=optimizer, num_warmup_steps=0, num_training_steps=len(train_dataset)\n",
        ")\n",
        "\n",
        "\n",
        "\n",
        "trainer = Trainer(\n",
        "    model=model,\n",
        "    args=training_args,\n",
        "    train_dataset=train_dataset,\n",
        "    eval_dataset=test_dataset,\n",
        "    optimizers=(optimizer, lr_scheduler),\n",
        ")\n",
        "\n",
        "# Free memory before training\n",
        "gc.collect()\n"
      ],
      "metadata": {
        "colab": {
          "base_uri": "https://localhost:8080/"
        },
        "id": "ScSJutf66_vv",
        "outputId": "ac034500-bfd9-48ad-f3b5-511c21519148"
      },
      "execution_count": 77,
      "outputs": [
        {
          "output_type": "execute_result",
          "data": {
            "text/plain": [
              "75"
            ]
          },
          "metadata": {},
          "execution_count": 77
        }
      ]
    },
    {
      "cell_type": "code",
      "source": [
        "# %%\n",
        "# Step 12: Start the training process\n",
        "trainer.train()"
      ],
      "metadata": {
        "colab": {
          "base_uri": "https://localhost:8080/",
          "height": 205
        },
        "id": "qh6s_W_y7gcz",
        "outputId": "b62da85c-2025-4120-e783-e370aadd00ce"
      },
      "execution_count": 78,
      "outputs": [
        {
          "output_type": "display_data",
          "data": {
            "text/plain": [
              "<IPython.core.display.HTML object>"
            ],
            "text/html": [
              "\n",
              "    <div>\n",
              "      \n",
              "      <progress value='438' max='438' style='width:300px; height:20px; vertical-align: middle;'></progress>\n",
              "      [438/438 04:04, Epoch 3/3]\n",
              "    </div>\n",
              "    <table border=\"1\" class=\"dataframe\">\n",
              "  <thead>\n",
              " <tr style=\"text-align: left;\">\n",
              "      <th>Epoch</th>\n",
              "      <th>Training Loss</th>\n",
              "      <th>Validation Loss</th>\n",
              "    </tr>\n",
              "  </thead>\n",
              "  <tbody>\n",
              "    <tr>\n",
              "      <td>1</td>\n",
              "      <td>No log</td>\n",
              "      <td>0.235711</td>\n",
              "    </tr>\n",
              "    <tr>\n",
              "      <td>2</td>\n",
              "      <td>No log</td>\n",
              "      <td>0.257186</td>\n",
              "    </tr>\n",
              "    <tr>\n",
              "      <td>3</td>\n",
              "      <td>No log</td>\n",
              "      <td>0.343364</td>\n",
              "    </tr>\n",
              "  </tbody>\n",
              "</table><p>"
            ]
          },
          "metadata": {}
        },
        {
          "output_type": "execute_result",
          "data": {
            "text/plain": [
              "TrainOutput(global_step=438, training_loss=0.9586595509150256, metrics={'train_runtime': 244.6739, 'train_samples_per_second': 114.544, 'train_steps_per_second': 1.79, 'total_flos': 1843487609379840.0, 'train_loss': 0.9586595509150256, 'epoch': 3.0})"
            ]
          },
          "metadata": {},
          "execution_count": 78
        }
      ]
    },
    {
      "cell_type": "code",
      "source": [
        "# %%\n",
        "# Step 13: Evaluate the model's performance\n",
        "# Ensure that test labels and predictions are on the same device\n",
        "preds = trainer.predict(test_dataset).predictions\n",
        "\n",
        "\n",
        "# Calculate accuracy\n",
        "test_labels_tensor = torch.tensor(list(test_dataset.labels)).to(torch.device(\"cpu\"))\n",
        "binary_preds = torch.argmax(torch.tensor(preds), dim=1)\n",
        "accuracy = accuracy_score(test_labels_tensor.numpy(), binary_preds.numpy())\n",
        "\n",
        "print(f\"Accuracy: {accuracy}\")"
      ],
      "metadata": {
        "colab": {
          "base_uri": "https://localhost:8080/",
          "height": 35
        },
        "id": "5DyKP-zF8CKs",
        "outputId": "f4e3cc20-ec26-4b2c-8a65-b3c2e044713e"
      },
      "execution_count": 79,
      "outputs": [
        {
          "output_type": "display_data",
          "data": {
            "text/plain": [
              "<IPython.core.display.HTML object>"
            ],
            "text/html": []
          },
          "metadata": {}
        },
        {
          "output_type": "stream",
          "name": "stdout",
          "text": [
            "Accuracy: 0.9085\n"
          ]
        }
      ]
    },
    {
      "cell_type": "code",
      "source": [
        "# Obtain predictions and true labels\n",
        "output = trainer.predict(test_dataset)  # Get predictions and metrics from the model\n",
        "predictions = output.predictions  # Raw predictions from the model\n",
        "\n",
        "# Convert predictions to class labels\n",
        "predicted_labels = torch.argmax(torch.tensor(predictions), dim=1).numpy()\n",
        "\n",
        "# Extract true labels from the test dataset\n",
        "true_labels = [example['labels'] for example in test_dataset]"
      ],
      "metadata": {
        "colab": {
          "base_uri": "https://localhost:8080/",
          "height": 17
        },
        "id": "WxvO0l2B1dHo",
        "outputId": "0c069261-2756-4154-cc44-1af819571074"
      },
      "execution_count": 80,
      "outputs": [
        {
          "output_type": "display_data",
          "data": {
            "text/plain": [
              "<IPython.core.display.HTML object>"
            ],
            "text/html": []
          },
          "metadata": {}
        }
      ]
    },
    {
      "cell_type": "code",
      "source": [
        "\n",
        "# Calculate Metrics\n",
        "accuracy = accuracy_score(true_labels, predicted_labels)\n",
        "precision = precision_score(true_labels, predicted_labels, average=\"binary\")  # Use \"micro\" for multiclass\n",
        "recall = recall_score(true_labels, predicted_labels, average=\"binary\")\n",
        "f1 = f1_score(true_labels, predicted_labels, average=\"binary\")\n",
        "\n",
        "# Print Metrics\n",
        "print(f\"Accuracy: {accuracy:.2f}\")\n",
        "print(f\"Precision: {precision:.2f}\")\n",
        "print(f\"Recall: {recall:.2f}\")\n",
        "print(f\"F1-Score: {f1:.2f}\")\n",
        "\n",
        "# Detailed Report (Optional)\n",
        "print(\"\\nClassification Report:\")\n",
        "print(classification_report(true_labels, predicted_labels))\n"
      ],
      "metadata": {
        "id": "bej-WBP0wCOF",
        "colab": {
          "base_uri": "https://localhost:8080/"
        },
        "outputId": "2439143b-5c7c-4113-bddb-e4a0a9d7154d"
      },
      "execution_count": 82,
      "outputs": [
        {
          "output_type": "stream",
          "name": "stdout",
          "text": [
            "Accuracy: 0.91\n",
            "Precision: 0.87\n",
            "Recall: 0.91\n",
            "F1-Score: 0.89\n",
            "\n",
            "Classification Report:\n",
            "              precision    recall  f1-score   support\n",
            "\n",
            "           0       0.94      0.90      0.92      1177\n",
            "           1       0.87      0.91      0.89       823\n",
            "\n",
            "    accuracy                           0.91      2000\n",
            "   macro avg       0.90      0.91      0.91      2000\n",
            "weighted avg       0.91      0.91      0.91      2000\n",
            "\n"
          ]
        }
      ]
    },
    {
      "cell_type": "code",
      "source": [
        "import shutil\n",
        "import os\n",
        "\n",
        "results_dir = '/content/drive/MyDrive/sentiment_analysis_results'  # Define the directory path\n",
        "\n",
        "# Check if the directory exists\n",
        "if os.path.exists(results_dir):\n",
        "    shutil.rmtree(results_dir)  # Delete the entire directory and its contents\n",
        "    print(f\"Deleted the directory: {results_dir}\")\n",
        "else:\n",
        "    print(f\"Directory not found: {results_dir}\")\n"
      ],
      "metadata": {
        "colab": {
          "base_uri": "https://localhost:8080/"
        },
        "id": "xFwfBdid3yh3",
        "outputId": "4cf87bf8-7707-4cc8-c72b-196da1709b2d"
      },
      "execution_count": 31,
      "outputs": [
        {
          "output_type": "stream",
          "name": "stdout",
          "text": [
            "Deleted the directory: /content/drive/MyDrive/sentiment_analysis_results\n"
          ]
        }
      ]
    },
    {
      "cell_type": "code",
      "source": [
        "# Step 14: Add additional performance checks\n",
        "\n",
        "from sklearn.metrics import confusion_matrix, ConfusionMatrixDisplay, roc_auc_score, roc_curve, precision_recall_curve\n",
        "# Import required module\n",
        "import matplotlib.pyplot as plt\n",
        "\n",
        "# Convert logits to probabilities using softmax\n",
        "probs = torch.softmax(torch.tensor(predictions), dim=1).numpy()\n",
        "\n",
        "\n",
        "# Evaluate confusion matrix\n",
        "cm = confusion_matrix(true_labels, predicted_labels)\n",
        "disp = ConfusionMatrixDisplay(confusion_matrix=cm, display_labels=[0, 1])\n",
        "disp.plot()\n",
        "plt.title(\"Confusion Matrix\")\n",
        "plt.show()\n",
        "\n",
        "# Calculate and display ROC-AUC score\n",
        "roc_auc = roc_auc_score(true_labels, probs[:, 1])\n",
        "print(f\"ROC-AUC Score: {roc_auc:.2f}\")\n",
        "\n",
        "# Plot ROC curve\n",
        "fpr, tpr, _ = roc_curve(true_labels, probs[:, 1])\n",
        "plt.plot(fpr, tpr, label=f\"ROC Curve (AUC = {roc_auc:.2f})\")\n",
        "plt.xlabel(\"False Positive Rate\")\n",
        "plt.ylabel(\"True Positive Rate\")\n",
        "plt.title(\"ROC Curve\")\n",
        "plt.legend()\n",
        "plt.show()\n",
        "\n",
        "# Plot Precision-Recall Curve\n",
        "precision, recall, _ = precision_recall_curve(true_labels, probs[:, 1])\n",
        "plt.plot(recall, precision, label=\"Precision-Recall Curve\")\n",
        "plt.xlabel(\"Recall\")\n",
        "plt.ylabel(\"Precision\")\n",
        "plt.title(\"Precision-Recall Curve\")\n",
        "plt.legend()\n",
        "plt.show()\n"
      ],
      "metadata": {
        "colab": {
          "base_uri": "https://localhost:8080/",
          "height": 1000
        },
        "id": "egRUrGxRPe0a",
        "outputId": "9c9f220c-e7b6-49c0-c095-a6353c36e251"
      },
      "execution_count": 85,
      "outputs": [
        {
          "output_type": "display_data",
          "data": {
            "text/plain": [
              "<Figure size 640x480 with 2 Axes>"
            ],
            "image/png": "[encoded data removed]"
          },
          "metadata": {}
        },
        {
          "output_type": "stream",
          "name": "stdout",
          "text": [
            "ROC-AUC Score: 0.97\n"
          ]
        },
        {
          "output_type": "display_data",
          "data": {
            "text/plain": [
              "<Figure size 640x480 with 1 Axes>"
            ],
            "image/png": "[encoded data removed]"
          },
          "metadata": {}
        },
        {
          "output_type": "display_data",
          "data": {
            "text/plain": [
              "<Figure size 640x480 with 1 Axes>"
            ],
            "image/png": "[encoded data removed]"
          },
          "metadata": {}
        }
      ]
    }
  ]
}
